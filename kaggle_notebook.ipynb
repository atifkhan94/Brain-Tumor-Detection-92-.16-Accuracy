{
    "cells": [{
            "cell_type": "markdown",
            "metadata": {},
            "source": ["# Brain Tumor Detection using ResNet18\n\nThis notebook implements a brain tumor detection model using ResNet18 architecture. The model is trained on MRI scan images to classify whether a brain tumor is present or not.\n\n## Model Architecture\n- Base model: ResNet18 (pretrained)\n- Custom classification head\n- Binary classification (tumor/no tumor)\n\n## Dataset\n- MRI scan images organized in two classes:\n  - 'yes': Contains tumor\n  - 'no': No tumor present\n- Images are preprocessed and resized to 224x224"]
        },
        {
            "cell_type": "code",
            "metadata": {},
            "source": ["import os\nimport torch\nimport torch.nn as nn\nimport torchvision.models as models\nfrom torchvision import transforms\nfrom PIL import Image\nimport cv2\nimport numpy as np\nfrom torch.utils.data import Dataset, DataLoader"]
        },
        {
            "cell_type": "markdown",
            "metadata": {},
            "source": ["## Model Definition"]
        },
        {
            "cell_type": "code",
            "metadata": {},
            "source": ["class BrainTumorModel(nn.Module):\n    def __init__(self, num_classes=2):\n        super(BrainTumorModel, self).__init__()\n        \n        # Use ResNet18 as backbone\n        self.backbone = models.resnet18(pretrained=True)\n        \n        # Replace the final fully connected layer\n        in_features = self.backbone.fc.in_features\n        self.backbone.fc = nn.Sequential(\n            nn.Linear(in_features, 512),\n            nn.ReLU(),\n            nn.Dropout(0.3),\n            nn.Linear(512, num_classes)\n        )\n        \n    def forward(self, x):\n        return self.backbone(x)"]
        },
        {
            "cell_type": "markdown",
            "metadata": {},
            "source": ["## Data Loading and Preprocessing"]
        },
        {
            "cell_type": "code",
            "metadata": {},
            "source": ["class BrainTumorDataset(Dataset):\n    def __init__(self, data_dir, transform=None):\n        self.data_dir = data_dir\n        self.transform = transform\n        self.images = []\n        self.labels = []\n        self.class_to_idx = {'no': 0, 'yes': 1}\n        \n        # Load data\n        self._load_dataset()\n        \n    def _load_dataset(self):\n        for class_name in os.listdir(self.data_dir):\n            class_dir = os.path.join(self.data_dir, class_name)\n            if os.path.isdir(class_dir):\n                for img_name in os.listdir(class_dir):\n                    if img_name.lower().endswith(('.png', '.jpg', '.jpeg')):\n                        img_path = os.path.join(class_dir, img_name)\n                        self.images.append(img_path)\n                        self.labels.append(self.class_to_idx[class_name])\n    \n    def __len__(self):\n        return len(self.images)\n    \n    def __getitem__(self, idx):\n        img_path = self.images[idx]\n        label = self.labels[idx]\n        \n        # Load and preprocess image\n        image = Image.open(img_path).convert('RGB')\n        \n        if self.transform:\n            image = self.transform(image)\n            \n        # Convert label to tensor\n        label = torch.tensor(label, dtype=torch.long)\n        return image, label"]
        },
        {
            "cell_type": "markdown",
            "metadata": {},
            "source": ["## Model Training"]
        },
        {
            "cell_type": "code",
            "metadata": {},
            "source": ["def train_model(data_dir, model_save_path, num_epochs=50, batch_size=32, learning_rate=0.001):\n    # Define data transforms\n    transform = transforms.Compose([\n        transforms.Resize((224, 224)),\n        transforms.ToTensor(),\n        transforms.Normalize(mean=[0.485, 0.456, 0.406],\n                         std=[0.229, 0.224, 0.225])\n    ])\n    \n    # Create dataset and split into train/val\n    dataset = BrainTumorDataset(data_dir, transform=transform)\n    train_size = int(0.8 * len(dataset))\n    val_size = len(dataset) - train_size\n    train_dataset, val_dataset = torch.utils.data.random_split(dataset, [train_size, val_size])\n    \n    # Create data loaders\n    train_loader = DataLoader(train_dataset, batch_size=batch_size, shuffle=True)\n    val_loader = DataLoader(val_dataset, batch_size=batch_size)\n    \n    # Initialize model\n    device = torch.device('cuda' if torch.cuda.is_available() else 'cpu')\n    model = BrainTumorModel(num_classes=2).to(device)\n    \n    # Define loss function and optimizer\n    criterion = nn.CrossEntropyLoss()\n    optimizer = optim.Adam(model.parameters(), lr=learning_rate)\n    \n    # Training loop\n    best_val_acc = 0.0\n    for epoch in range(num_epochs):\n        model.train()\n        train_loss = 0.0\n        train_correct = 0\n        train_total = 0\n        \n        for images, labels in train_loader:\n            images = images.to(device)\n            labels = labels.to(device)\n            \n            # Forward pass\n            outputs = model(images)\n            loss = criterion(outputs, labels)\n            \n            # Backward pass and optimize\n            optimizer.zero_grad()\n            loss.backward()\n            optimizer.step()\n            \n            train_loss += loss.item()\n            _, predicted = torch.max(outputs.data, 1)\n            train_total += labels.size(0)\n            train_correct += (predicted == labels).sum().item()\n        \n        # Validation phase\n        model.eval()\n        val_correct = 0\n        val_total = 0\n        with torch.no_grad():\n            for images, labels in val_loader:\n                images = images.to(device)\n                labels = labels.to(device)\n                \n                outputs = model(images)\n                _, predicted = torch.max(outputs.data, 1)\n                \n                val_total += labels.size(0)\n                val_correct += (predicted == labels).sum().item()\n        \n        # Calculate metrics\n        train_acc = 100 * train_correct / train_total\n        val_acc = 100 * val_correct / val_total\n        \n        print(f'Epoch [{epoch+1}/{num_epochs}]')\n        print(f'Train Loss: {train_loss/len(train_loader):.4f}')\n        print(f'Train Accuracy: {train_acc:.2f}%')\n        print(f'Validation Accuracy: {val_acc:.2f}%')\n        \n        # Save best model\n        if val_acc > best_val_acc:\n            best_val_acc = val_acc\n            torch.save(model.state_dict(), model_save_path)"]
        },
        {
            "cell_type": "markdown",
            "metadata": {},
            "source": ["## Model Inference"]
        },
        {
            "cell_type": "code",
            "metadata": {},
            "source": ["def predict(model, image_path, device='cuda'):\n    # Load and preprocess image\n    transform = transforms.Compose([\n        transforms.Resize((224, 224)),\n        transforms.ToTensor(),\n        transforms.Normalize(mean=[0.485, 0.456, 0.406],\n                         std=[0.229, 0.224, 0.225])\n    ])\n    \n    image = Image.open(image_path).convert('RGB')\n    image = transform(image).unsqueeze(0).to(device)\n    \n    # Set model to evaluation mode\n    model.eval()\n    \n    # Make prediction\n    with torch.no_grad():\n        outputs = model(image)\n        _, predicted = torch.max(outputs.data, 1)\n        \n    return 'Tumor Detected' if predicted.item() == 1 else 'No Tumor Detected'"]
        },
        {
            "cell_type": "markdown",
            "metadata": {},
            "source": ["## Example Usage"]
        },
        {
            "cell_type": "code",
            "metadata": {},
            "source": ["# Train model\ndata_dir = 'data'  # Path to your dataset\nmodel_save_path = 'brain_tumor_model.pth'\ntrain_model(data_dir, model_save_path)\n\n# Make prediction\nmodel = BrainTumorModel()\nmodel.load_state_dict(torch.load(model_save_path))\nimage_path = 'path_to_your_image.jpg'  # Replace with your image path\nresult = predict(model, image_path)\nprint(f'Prediction: {result}')"]
        }
    ],
    "metadata": {
        "kernelspec": {
            "display_name": "Python 3",
            "language": "python",
            "name": "python3"
        },
        "language_info": {
            "codemirror_mode": {
                "name": "ipython",
                "version": 3
            },
            "file_extension": ".py",
            "mimetype": "text/x-python",
            "name": "python",
            "nbconvert_exporter": "python",
            "pygments_lexer": "ipython3",
            "version": "3.9.0"
        }
    },
    "nbformat": 4,
    "nbformat_minor": 4
}